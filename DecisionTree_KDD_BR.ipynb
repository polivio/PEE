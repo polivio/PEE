{
  "nbformat": 4,
  "nbformat_minor": 0,
  "metadata": {
    "colab": {
      "name": "DecisionTree_KDD_BR.ipynb",
      "provenance": [],
      "collapsed_sections": [],
      "include_colab_link": true
    },
    "kernelspec": {
      "name": "python3",
      "display_name": "Python 3"
    }
  },
  "cells": [
    {
      "cell_type": "markdown",
      "metadata": {
        "id": "view-in-github",
        "colab_type": "text"
      },
      "source": [
        "<a href=\"https://colab.research.google.com/github/polivio/PEE/blob/master/DecisionTree_KDD_BR.ipynb\" target=\"_parent\"><img src=\"https://colab.research.google.com/assets/colab-badge.svg\" alt=\"Open In Colab\"/></a>"
      ]
    },
    {
      "cell_type": "code",
      "metadata": {
        "id": "LWxORay9S7ZS",
        "colab_type": "code",
        "colab": {}
      },
      "source": [
        "# https://www.kaggle.com/c/kddbr-2019/data\n",
        "\n",
        "# KNN KDD BR -Polivio\n",
        "import numpy as np\n",
        "from sklearn import preprocessing, neighbors\n",
        "import pandas as pd\n",
        "import matplotlib.pyplot as plt\n",
        "from sklearn.model_selection import train_test_split\n",
        "from sklearn import tree\n",
        "from sklearn.model_selection import cross_val_score\n",
        "from sklearn.metrics import mean_squared_error\n",
        "from math import sqrt\n",
        "\n",
        "\n"
      ],
      "execution_count": 0,
      "outputs": []
    },
    {
      "cell_type": "code",
      "metadata": {
        "id": "_8t-C10SZq3i",
        "colab_type": "code",
        "outputId": "799e4cf6-072b-4745-a80b-73afabcdac7b",
        "colab": {
          "base_uri": "https://localhost:8080/",
          "height": 459
        }
      },
      "source": [
        "# preprocessing # blob # raw\n",
        "train = pd.read_csv('https://github.com/polivio/PEE/raw/master/Training_grouped.csv')\n",
        "test = pd.read_csv('https://github.com/polivio/PEE/raw/master/Test_grouped.csv')\n",
        "\n",
        "\n",
        "train.info()\n",
        "\n",
        "\n"
      ],
      "execution_count": 2,
      "outputs": [
        {
          "output_type": "stream",
          "text": [
            "<class 'pandas.core.frame.DataFrame'>\n",
            "RangeIndex: 80000 entries, 0 to 79999\n",
            "Data columns (total 21 columns):\n",
            "Unnamed: 0                          80000 non-null int64\n",
            "traininglabelorder.scatterplotID    80000 non-null int64\n",
            "qtde.ponto                          80000 non-null int64\n",
            "Negative                            80000 non-null int64\n",
            "Sample                              80000 non-null int64\n",
            "mean.signalX                        80000 non-null float64\n",
            "sd.signalX                          80000 non-null float64\n",
            "var.signalX                         80000 non-null float64\n",
            "kurtosis.signalX                    80000 non-null float64\n",
            "skew.signalX                        80000 non-null float64\n",
            "mean.signalY                        80000 non-null float64\n",
            "sd.signalY                          80000 non-null float64\n",
            "var.signalY                         80000 non-null float64\n",
            "kurtosis.signalY                    80000 non-null float64\n",
            "skew.signalY                        80000 non-null float64\n",
            "L                                   80000 non-null int64\n",
            "X                                   75408 non-null float64\n",
            "XY                                  60537 non-null float64\n",
            "Y                                   76289 non-null float64\n",
            "mean.silhouette                     80000 non-null float64\n",
            "traininglabelorder.score            80000 non-null float64\n",
            "dtypes: float64(15), int64(6)\n",
            "memory usage: 12.8 MB\n"
          ],
          "name": "stdout"
        }
      ]
    },
    {
      "cell_type": "code",
      "metadata": {
        "id": "nnzDnC0RVDzm",
        "colab_type": "code",
        "outputId": "70b2f851-ceaa-42b2-9ba9-16a77013bb59",
        "colab": {
          "base_uri": "https://localhost:8080/",
          "height": 459
        }
      },
      "source": [
        "#train.isna().sum()\n",
        "##X                            4592\n",
        "##XY                          19463\n",
        "##Y                            3711\n",
        "\n",
        "# Dica Mateus substituição pela média\n",
        "train['X'].fillna(train['X'].mean(),inplace=True)\n",
        "train['XY'].fillna(train['XY'].mean(),inplace=True)\n",
        "train['Y'].fillna(train['XY'].mean(),inplace=True)\n",
        "\n",
        "train.info()"
      ],
      "execution_count": 3,
      "outputs": [
        {
          "output_type": "stream",
          "text": [
            "<class 'pandas.core.frame.DataFrame'>\n",
            "RangeIndex: 80000 entries, 0 to 79999\n",
            "Data columns (total 21 columns):\n",
            "Unnamed: 0                          80000 non-null int64\n",
            "traininglabelorder.scatterplotID    80000 non-null int64\n",
            "qtde.ponto                          80000 non-null int64\n",
            "Negative                            80000 non-null int64\n",
            "Sample                              80000 non-null int64\n",
            "mean.signalX                        80000 non-null float64\n",
            "sd.signalX                          80000 non-null float64\n",
            "var.signalX                         80000 non-null float64\n",
            "kurtosis.signalX                    80000 non-null float64\n",
            "skew.signalX                        80000 non-null float64\n",
            "mean.signalY                        80000 non-null float64\n",
            "sd.signalY                          80000 non-null float64\n",
            "var.signalY                         80000 non-null float64\n",
            "kurtosis.signalY                    80000 non-null float64\n",
            "skew.signalY                        80000 non-null float64\n",
            "L                                   80000 non-null int64\n",
            "X                                   80000 non-null float64\n",
            "XY                                  80000 non-null float64\n",
            "Y                                   80000 non-null float64\n",
            "mean.silhouette                     80000 non-null float64\n",
            "traininglabelorder.score            80000 non-null float64\n",
            "dtypes: float64(15), int64(6)\n",
            "memory usage: 12.8 MB\n"
          ],
          "name": "stdout"
        }
      ]
    },
    {
      "cell_type": "code",
      "metadata": {
        "id": "slmF0tNFUw0h",
        "colab_type": "code",
        "outputId": "77b7dd1b-88cc-40ec-919f-567455b51340",
        "colab": {
          "base_uri": "https://localhost:8080/",
          "height": 669
        }
      },
      "source": [
        "train = train.loc[:,['qtde.ponto', \n",
        "       'mean.signalX', 'sd.signalX', 'kurtosis.signalX',\n",
        "      'mean.signalY', 'sd.signalY', \n",
        "       'kurtosis.signalY', 'L', 'X', 'XY', 'Y',\n",
        "       'mean.silhouette', 'traininglabelorder.score']]\n",
        "\n",
        "## Quando iremos usar os dados de teste?\n",
        "test = test.loc[:,[ 'qtde.ponto', \n",
        "       'mean.signalX', 'sd.signalX', 'kurtosis.signalX',\n",
        "      'mean.signalY', 'sd.signalY', \n",
        "       'kurtosis.signalY', 'L', 'X', 'XY', 'Y',\n",
        "       'mean.silhouette']]\n",
        "\n",
        "train.head(20)\n",
        "\n",
        "\n",
        "\n",
        "\n",
        "\n"
      ],
      "execution_count": 4,
      "outputs": [
        {
          "output_type": "execute_result",
          "data": {
            "text/html": [
              "<div>\n",
              "<style scoped>\n",
              "    .dataframe tbody tr th:only-of-type {\n",
              "        vertical-align: middle;\n",
              "    }\n",
              "\n",
              "    .dataframe tbody tr th {\n",
              "        vertical-align: top;\n",
              "    }\n",
              "\n",
              "    .dataframe thead th {\n",
              "        text-align: right;\n",
              "    }\n",
              "</style>\n",
              "<table border=\"1\" class=\"dataframe\">\n",
              "  <thead>\n",
              "    <tr style=\"text-align: right;\">\n",
              "      <th></th>\n",
              "      <th>qtde.ponto</th>\n",
              "      <th>mean.signalX</th>\n",
              "      <th>sd.signalX</th>\n",
              "      <th>kurtosis.signalX</th>\n",
              "      <th>mean.signalY</th>\n",
              "      <th>sd.signalY</th>\n",
              "      <th>kurtosis.signalY</th>\n",
              "      <th>L</th>\n",
              "      <th>X</th>\n",
              "      <th>XY</th>\n",
              "      <th>Y</th>\n",
              "      <th>mean.silhouette</th>\n",
              "      <th>traininglabelorder.score</th>\n",
              "    </tr>\n",
              "  </thead>\n",
              "  <tbody>\n",
              "    <tr>\n",
              "      <th>0</th>\n",
              "      <td>365</td>\n",
              "      <td>3164.835616</td>\n",
              "      <td>804.757625</td>\n",
              "      <td>3.516731</td>\n",
              "      <td>1586.430137</td>\n",
              "      <td>568.651580</td>\n",
              "      <td>3.170632</td>\n",
              "      <td>4</td>\n",
              "      <td>92.0</td>\n",
              "      <td>269.000000</td>\n",
              "      <td>80.421065</td>\n",
              "      <td>0.840146</td>\n",
              "      <td>0.009647</td>\n",
              "    </tr>\n",
              "    <tr>\n",
              "      <th>1</th>\n",
              "      <td>384</td>\n",
              "      <td>1737.776042</td>\n",
              "      <td>944.798845</td>\n",
              "      <td>2.475172</td>\n",
              "      <td>2999.940104</td>\n",
              "      <td>1716.790542</td>\n",
              "      <td>2.195067</td>\n",
              "      <td>4</td>\n",
              "      <td>82.0</td>\n",
              "      <td>49.000000</td>\n",
              "      <td>249.000000</td>\n",
              "      <td>0.964427</td>\n",
              "      <td>0.842084</td>\n",
              "    </tr>\n",
              "    <tr>\n",
              "      <th>2</th>\n",
              "      <td>373</td>\n",
              "      <td>1139.621984</td>\n",
              "      <td>866.460225</td>\n",
              "      <td>1.922726</td>\n",
              "      <td>1836.640751</td>\n",
              "      <td>950.478945</td>\n",
              "      <td>1.436889</td>\n",
              "      <td>4</td>\n",
              "      <td>156.0</td>\n",
              "      <td>7.000000</td>\n",
              "      <td>206.000000</td>\n",
              "      <td>0.936210</td>\n",
              "      <td>0.744601</td>\n",
              "    </tr>\n",
              "    <tr>\n",
              "      <th>3</th>\n",
              "      <td>384</td>\n",
              "      <td>3609.692708</td>\n",
              "      <td>1808.877599</td>\n",
              "      <td>1.985210</td>\n",
              "      <td>2469.164062</td>\n",
              "      <td>1219.231193</td>\n",
              "      <td>1.913381</td>\n",
              "      <td>4</td>\n",
              "      <td>100.0</td>\n",
              "      <td>190.000000</td>\n",
              "      <td>90.000000</td>\n",
              "      <td>0.896070</td>\n",
              "      <td>0.842084</td>\n",
              "    </tr>\n",
              "    <tr>\n",
              "      <th>4</th>\n",
              "      <td>383</td>\n",
              "      <td>1867.203655</td>\n",
              "      <td>938.232021</td>\n",
              "      <td>2.176598</td>\n",
              "      <td>2180.908616</td>\n",
              "      <td>1515.205489</td>\n",
              "      <td>1.155226</td>\n",
              "      <td>4</td>\n",
              "      <td>176.0</td>\n",
              "      <td>2.000000</td>\n",
              "      <td>201.000000</td>\n",
              "      <td>0.952810</td>\n",
              "      <td>0.944177</td>\n",
              "    </tr>\n",
              "    <tr>\n",
              "      <th>5</th>\n",
              "      <td>384</td>\n",
              "      <td>449.072917</td>\n",
              "      <td>507.413489</td>\n",
              "      <td>29.834375</td>\n",
              "      <td>2910.351562</td>\n",
              "      <td>358.648637</td>\n",
              "      <td>7.460460</td>\n",
              "      <td>4</td>\n",
              "      <td>12.0</td>\n",
              "      <td>80.421065</td>\n",
              "      <td>368.000000</td>\n",
              "      <td>0.968487</td>\n",
              "      <td>1.000000</td>\n",
              "    </tr>\n",
              "    <tr>\n",
              "      <th>6</th>\n",
              "      <td>362</td>\n",
              "      <td>2076.953039</td>\n",
              "      <td>655.688216</td>\n",
              "      <td>2.774567</td>\n",
              "      <td>1170.375691</td>\n",
              "      <td>342.483082</td>\n",
              "      <td>2.222238</td>\n",
              "      <td>7</td>\n",
              "      <td>132.0</td>\n",
              "      <td>117.000000</td>\n",
              "      <td>106.000000</td>\n",
              "      <td>0.913787</td>\n",
              "      <td>0.578706</td>\n",
              "    </tr>\n",
              "    <tr>\n",
              "      <th>7</th>\n",
              "      <td>200</td>\n",
              "      <td>830.200000</td>\n",
              "      <td>648.128942</td>\n",
              "      <td>9.725987</td>\n",
              "      <td>3241.095000</td>\n",
              "      <td>693.599022</td>\n",
              "      <td>5.545654</td>\n",
              "      <td>5</td>\n",
              "      <td>3.0</td>\n",
              "      <td>22.000000</td>\n",
              "      <td>170.000000</td>\n",
              "      <td>0.916503</td>\n",
              "      <td>1.000000</td>\n",
              "    </tr>\n",
              "    <tr>\n",
              "      <th>8</th>\n",
              "      <td>384</td>\n",
              "      <td>3586.317708</td>\n",
              "      <td>1862.356219</td>\n",
              "      <td>2.630635</td>\n",
              "      <td>1683.195312</td>\n",
              "      <td>1436.342429</td>\n",
              "      <td>6.643115</td>\n",
              "      <td>4</td>\n",
              "      <td>326.0</td>\n",
              "      <td>80.421065</td>\n",
              "      <td>54.000000</td>\n",
              "      <td>0.956756</td>\n",
              "      <td>0.944319</td>\n",
              "    </tr>\n",
              "    <tr>\n",
              "      <th>9</th>\n",
              "      <td>154</td>\n",
              "      <td>222.168831</td>\n",
              "      <td>270.887643</td>\n",
              "      <td>23.916200</td>\n",
              "      <td>2146.623377</td>\n",
              "      <td>434.285275</td>\n",
              "      <td>4.516220</td>\n",
              "      <td>2</td>\n",
              "      <td>6.0</td>\n",
              "      <td>2.000000</td>\n",
              "      <td>144.000000</td>\n",
              "      <td>0.949731</td>\n",
              "      <td>0.751477</td>\n",
              "    </tr>\n",
              "    <tr>\n",
              "      <th>10</th>\n",
              "      <td>384</td>\n",
              "      <td>2238.825521</td>\n",
              "      <td>1480.077892</td>\n",
              "      <td>1.558220</td>\n",
              "      <td>1509.859375</td>\n",
              "      <td>1343.930384</td>\n",
              "      <td>2.139870</td>\n",
              "      <td>5</td>\n",
              "      <td>229.0</td>\n",
              "      <td>4.000000</td>\n",
              "      <td>146.000000</td>\n",
              "      <td>0.955443</td>\n",
              "      <td>1.000000</td>\n",
              "    </tr>\n",
              "    <tr>\n",
              "      <th>11</th>\n",
              "      <td>384</td>\n",
              "      <td>877.057292</td>\n",
              "      <td>298.678765</td>\n",
              "      <td>3.454756</td>\n",
              "      <td>496.882812</td>\n",
              "      <td>136.869587</td>\n",
              "      <td>13.971307</td>\n",
              "      <td>4</td>\n",
              "      <td>338.0</td>\n",
              "      <td>20.000000</td>\n",
              "      <td>22.000000</td>\n",
              "      <td>0.829714</td>\n",
              "      <td>0.283536</td>\n",
              "    </tr>\n",
              "    <tr>\n",
              "      <th>12</th>\n",
              "      <td>384</td>\n",
              "      <td>901.786458</td>\n",
              "      <td>633.263041</td>\n",
              "      <td>1.963940</td>\n",
              "      <td>1232.804688</td>\n",
              "      <td>530.281231</td>\n",
              "      <td>3.126608</td>\n",
              "      <td>4</td>\n",
              "      <td>220.0</td>\n",
              "      <td>50.000000</td>\n",
              "      <td>110.000000</td>\n",
              "      <td>0.937572</td>\n",
              "      <td>0.474833</td>\n",
              "    </tr>\n",
              "    <tr>\n",
              "      <th>13</th>\n",
              "      <td>304</td>\n",
              "      <td>1126.440789</td>\n",
              "      <td>697.174147</td>\n",
              "      <td>1.980671</td>\n",
              "      <td>1624.661184</td>\n",
              "      <td>637.844680</td>\n",
              "      <td>1.678215</td>\n",
              "      <td>4</td>\n",
              "      <td>140.0</td>\n",
              "      <td>8.000000</td>\n",
              "      <td>152.000000</td>\n",
              "      <td>0.907024</td>\n",
              "      <td>0.647776</td>\n",
              "    </tr>\n",
              "    <tr>\n",
              "      <th>14</th>\n",
              "      <td>384</td>\n",
              "      <td>379.539062</td>\n",
              "      <td>320.758506</td>\n",
              "      <td>43.888449</td>\n",
              "      <td>2732.984375</td>\n",
              "      <td>379.767518</td>\n",
              "      <td>9.060104</td>\n",
              "      <td>5</td>\n",
              "      <td>4.0</td>\n",
              "      <td>10.000000</td>\n",
              "      <td>365.000000</td>\n",
              "      <td>0.940349</td>\n",
              "      <td>0.795196</td>\n",
              "    </tr>\n",
              "    <tr>\n",
              "      <th>15</th>\n",
              "      <td>384</td>\n",
              "      <td>3469.518229</td>\n",
              "      <td>973.268089</td>\n",
              "      <td>2.523557</td>\n",
              "      <td>3425.468750</td>\n",
              "      <td>750.673319</td>\n",
              "      <td>2.913455</td>\n",
              "      <td>5</td>\n",
              "      <td>85.0</td>\n",
              "      <td>203.000000</td>\n",
              "      <td>91.000000</td>\n",
              "      <td>0.882495</td>\n",
              "      <td>1.000000</td>\n",
              "    </tr>\n",
              "    <tr>\n",
              "      <th>16</th>\n",
              "      <td>384</td>\n",
              "      <td>1668.934896</td>\n",
              "      <td>797.617574</td>\n",
              "      <td>3.382641</td>\n",
              "      <td>3097.526042</td>\n",
              "      <td>817.027791</td>\n",
              "      <td>3.431970</td>\n",
              "      <td>14</td>\n",
              "      <td>18.0</td>\n",
              "      <td>272.000000</td>\n",
              "      <td>80.000000</td>\n",
              "      <td>0.485581</td>\n",
              "      <td>0.006463</td>\n",
              "    </tr>\n",
              "    <tr>\n",
              "      <th>17</th>\n",
              "      <td>167</td>\n",
              "      <td>1479.209581</td>\n",
              "      <td>969.112082</td>\n",
              "      <td>2.302135</td>\n",
              "      <td>1405.598802</td>\n",
              "      <td>907.868104</td>\n",
              "      <td>1.649250</td>\n",
              "      <td>2</td>\n",
              "      <td>76.0</td>\n",
              "      <td>4.000000</td>\n",
              "      <td>85.000000</td>\n",
              "      <td>0.954536</td>\n",
              "      <td>0.768378</td>\n",
              "    </tr>\n",
              "    <tr>\n",
              "      <th>18</th>\n",
              "      <td>383</td>\n",
              "      <td>1505.221932</td>\n",
              "      <td>460.339956</td>\n",
              "      <td>3.421156</td>\n",
              "      <td>1128.402089</td>\n",
              "      <td>590.302079</td>\n",
              "      <td>6.052414</td>\n",
              "      <td>5</td>\n",
              "      <td>321.0</td>\n",
              "      <td>9.000000</td>\n",
              "      <td>48.000000</td>\n",
              "      <td>0.957652</td>\n",
              "      <td>0.944177</td>\n",
              "    </tr>\n",
              "    <tr>\n",
              "      <th>19</th>\n",
              "      <td>374</td>\n",
              "      <td>1786.101604</td>\n",
              "      <td>1507.147662</td>\n",
              "      <td>1.277980</td>\n",
              "      <td>2363.534759</td>\n",
              "      <td>1498.744208</td>\n",
              "      <td>1.211140</td>\n",
              "      <td>4</td>\n",
              "      <td>157.0</td>\n",
              "      <td>9.000000</td>\n",
              "      <td>204.000000</td>\n",
              "      <td>0.946961</td>\n",
              "      <td>0.745189</td>\n",
              "    </tr>\n",
              "  </tbody>\n",
              "</table>\n",
              "</div>"
            ],
            "text/plain": [
              "    qtde.ponto  mean.signalX  ...  mean.silhouette  traininglabelorder.score\n",
              "0          365   3164.835616  ...         0.840146                  0.009647\n",
              "1          384   1737.776042  ...         0.964427                  0.842084\n",
              "2          373   1139.621984  ...         0.936210                  0.744601\n",
              "3          384   3609.692708  ...         0.896070                  0.842084\n",
              "4          383   1867.203655  ...         0.952810                  0.944177\n",
              "5          384    449.072917  ...         0.968487                  1.000000\n",
              "6          362   2076.953039  ...         0.913787                  0.578706\n",
              "7          200    830.200000  ...         0.916503                  1.000000\n",
              "8          384   3586.317708  ...         0.956756                  0.944319\n",
              "9          154    222.168831  ...         0.949731                  0.751477\n",
              "10         384   2238.825521  ...         0.955443                  1.000000\n",
              "11         384    877.057292  ...         0.829714                  0.283536\n",
              "12         384    901.786458  ...         0.937572                  0.474833\n",
              "13         304   1126.440789  ...         0.907024                  0.647776\n",
              "14         384    379.539062  ...         0.940349                  0.795196\n",
              "15         384   3469.518229  ...         0.882495                  1.000000\n",
              "16         384   1668.934896  ...         0.485581                  0.006463\n",
              "17         167   1479.209581  ...         0.954536                  0.768378\n",
              "18         383   1505.221932  ...         0.957652                  0.944177\n",
              "19         374   1786.101604  ...         0.946961                  0.745189\n",
              "\n",
              "[20 rows x 13 columns]"
            ]
          },
          "metadata": {
            "tags": []
          },
          "execution_count": 4
        }
      ]
    },
    {
      "cell_type": "code",
      "metadata": {
        "id": "_AfNPn0yAmLS",
        "colab_type": "code",
        "colab": {}
      },
      "source": [
        ""
      ],
      "execution_count": 0,
      "outputs": []
    },
    {
      "cell_type": "code",
      "metadata": {
        "id": "7nHASB57T40h",
        "colab_type": "code",
        "outputId": "1095d9b2-0ada-4bbe-b052-4a31472db00c",
        "colab": {
          "base_uri": "https://localhost:8080/",
          "height": 323
        }
      },
      "source": [
        "train.head(20)\n",
        "# change the dtype to 'float64' \n",
        "train = train.astype('float64')\n",
        "train.info()\n",
        "\n"
      ],
      "execution_count": 5,
      "outputs": [
        {
          "output_type": "stream",
          "text": [
            "<class 'pandas.core.frame.DataFrame'>\n",
            "RangeIndex: 80000 entries, 0 to 79999\n",
            "Data columns (total 13 columns):\n",
            "qtde.ponto                  80000 non-null float64\n",
            "mean.signalX                80000 non-null float64\n",
            "sd.signalX                  80000 non-null float64\n",
            "kurtosis.signalX            80000 non-null float64\n",
            "mean.signalY                80000 non-null float64\n",
            "sd.signalY                  80000 non-null float64\n",
            "kurtosis.signalY            80000 non-null float64\n",
            "L                           80000 non-null float64\n",
            "X                           80000 non-null float64\n",
            "XY                          80000 non-null float64\n",
            "Y                           80000 non-null float64\n",
            "mean.silhouette             80000 non-null float64\n",
            "traininglabelorder.score    80000 non-null float64\n",
            "dtypes: float64(13)\n",
            "memory usage: 7.9 MB\n"
          ],
          "name": "stdout"
        }
      ]
    },
    {
      "cell_type": "code",
      "metadata": {
        "id": "qNyTk7wLOqGA",
        "colab_type": "code",
        "outputId": "c7a406e3-1cf3-4c6a-d384-0142267a507b",
        "colab": {
          "base_uri": "https://localhost:8080/",
          "height": 204
        }
      },
      "source": [
        "train.head()"
      ],
      "execution_count": 6,
      "outputs": [
        {
          "output_type": "execute_result",
          "data": {
            "text/html": [
              "<div>\n",
              "<style scoped>\n",
              "    .dataframe tbody tr th:only-of-type {\n",
              "        vertical-align: middle;\n",
              "    }\n",
              "\n",
              "    .dataframe tbody tr th {\n",
              "        vertical-align: top;\n",
              "    }\n",
              "\n",
              "    .dataframe thead th {\n",
              "        text-align: right;\n",
              "    }\n",
              "</style>\n",
              "<table border=\"1\" class=\"dataframe\">\n",
              "  <thead>\n",
              "    <tr style=\"text-align: right;\">\n",
              "      <th></th>\n",
              "      <th>qtde.ponto</th>\n",
              "      <th>mean.signalX</th>\n",
              "      <th>sd.signalX</th>\n",
              "      <th>kurtosis.signalX</th>\n",
              "      <th>mean.signalY</th>\n",
              "      <th>sd.signalY</th>\n",
              "      <th>kurtosis.signalY</th>\n",
              "      <th>L</th>\n",
              "      <th>X</th>\n",
              "      <th>XY</th>\n",
              "      <th>Y</th>\n",
              "      <th>mean.silhouette</th>\n",
              "      <th>traininglabelorder.score</th>\n",
              "    </tr>\n",
              "  </thead>\n",
              "  <tbody>\n",
              "    <tr>\n",
              "      <th>0</th>\n",
              "      <td>365.0</td>\n",
              "      <td>3164.835616</td>\n",
              "      <td>804.757625</td>\n",
              "      <td>3.516731</td>\n",
              "      <td>1586.430137</td>\n",
              "      <td>568.651580</td>\n",
              "      <td>3.170632</td>\n",
              "      <td>4.0</td>\n",
              "      <td>92.0</td>\n",
              "      <td>269.0</td>\n",
              "      <td>80.421065</td>\n",
              "      <td>0.840146</td>\n",
              "      <td>0.009647</td>\n",
              "    </tr>\n",
              "    <tr>\n",
              "      <th>1</th>\n",
              "      <td>384.0</td>\n",
              "      <td>1737.776042</td>\n",
              "      <td>944.798845</td>\n",
              "      <td>2.475172</td>\n",
              "      <td>2999.940104</td>\n",
              "      <td>1716.790542</td>\n",
              "      <td>2.195067</td>\n",
              "      <td>4.0</td>\n",
              "      <td>82.0</td>\n",
              "      <td>49.0</td>\n",
              "      <td>249.000000</td>\n",
              "      <td>0.964427</td>\n",
              "      <td>0.842084</td>\n",
              "    </tr>\n",
              "    <tr>\n",
              "      <th>2</th>\n",
              "      <td>373.0</td>\n",
              "      <td>1139.621984</td>\n",
              "      <td>866.460225</td>\n",
              "      <td>1.922726</td>\n",
              "      <td>1836.640751</td>\n",
              "      <td>950.478945</td>\n",
              "      <td>1.436889</td>\n",
              "      <td>4.0</td>\n",
              "      <td>156.0</td>\n",
              "      <td>7.0</td>\n",
              "      <td>206.000000</td>\n",
              "      <td>0.936210</td>\n",
              "      <td>0.744601</td>\n",
              "    </tr>\n",
              "    <tr>\n",
              "      <th>3</th>\n",
              "      <td>384.0</td>\n",
              "      <td>3609.692708</td>\n",
              "      <td>1808.877599</td>\n",
              "      <td>1.985210</td>\n",
              "      <td>2469.164062</td>\n",
              "      <td>1219.231193</td>\n",
              "      <td>1.913381</td>\n",
              "      <td>4.0</td>\n",
              "      <td>100.0</td>\n",
              "      <td>190.0</td>\n",
              "      <td>90.000000</td>\n",
              "      <td>0.896070</td>\n",
              "      <td>0.842084</td>\n",
              "    </tr>\n",
              "    <tr>\n",
              "      <th>4</th>\n",
              "      <td>383.0</td>\n",
              "      <td>1867.203655</td>\n",
              "      <td>938.232021</td>\n",
              "      <td>2.176598</td>\n",
              "      <td>2180.908616</td>\n",
              "      <td>1515.205489</td>\n",
              "      <td>1.155226</td>\n",
              "      <td>4.0</td>\n",
              "      <td>176.0</td>\n",
              "      <td>2.0</td>\n",
              "      <td>201.000000</td>\n",
              "      <td>0.952810</td>\n",
              "      <td>0.944177</td>\n",
              "    </tr>\n",
              "  </tbody>\n",
              "</table>\n",
              "</div>"
            ],
            "text/plain": [
              "   qtde.ponto  mean.signalX  ...  mean.silhouette  traininglabelorder.score\n",
              "0       365.0   3164.835616  ...         0.840146                  0.009647\n",
              "1       384.0   1737.776042  ...         0.964427                  0.842084\n",
              "2       373.0   1139.621984  ...         0.936210                  0.744601\n",
              "3       384.0   3609.692708  ...         0.896070                  0.842084\n",
              "4       383.0   1867.203655  ...         0.952810                  0.944177\n",
              "\n",
              "[5 rows x 13 columns]"
            ]
          },
          "metadata": {
            "tags": []
          },
          "execution_count": 6
        }
      ]
    },
    {
      "cell_type": "code",
      "metadata": {
        "id": "wCZR9eztOwVB",
        "colab_type": "code",
        "outputId": "01c794fd-9ac2-4360-ed0c-958c4f2b905b",
        "colab": {
          "base_uri": "https://localhost:8080/",
          "height": 289
        }
      },
      "source": [
        "test.info()\n"
      ],
      "execution_count": 0,
      "outputs": [
        {
          "output_type": "stream",
          "text": [
            "<class 'pandas.core.frame.DataFrame'>\n",
            "RangeIndex: 20000 entries, 0 to 19999\n",
            "Data columns (total 11 columns):\n",
            "mean.signalX        20000 non-null float64\n",
            "sd.signalX          20000 non-null float64\n",
            "kurtosis.signalX    20000 non-null float64\n",
            "mean.signalY        20000 non-null float64\n",
            "sd.signalY          20000 non-null float64\n",
            "kurtosis.signalY    20000 non-null float64\n",
            "L                   20000 non-null int64\n",
            "X                   18857 non-null float64\n",
            "XY                  15215 non-null float64\n",
            "Y                   19029 non-null float64\n",
            "mean.silhouette     20000 non-null float64\n",
            "dtypes: float64(10), int64(1)\n",
            "memory usage: 1.7 MB\n"
          ],
          "name": "stdout"
        }
      ]
    },
    {
      "cell_type": "code",
      "metadata": {
        "id": "zIkKnEtwPA2T",
        "colab_type": "code",
        "outputId": "78f887b4-f724-4960-d473-6fbfbdd7c45b",
        "colab": {
          "base_uri": "https://localhost:8080/",
          "height": 306
        }
      },
      "source": [
        "\n",
        "# Dica Mateus substituição pela média\n",
        "test['X'].fillna(test['X'].mean(),inplace=True)\n",
        "test['XY'].fillna(test['XY'].mean(),inplace=True)\n",
        "test['Y'].fillna(test['XY'].mean(),inplace=True)\n",
        "\n",
        "test = test.astype('float64')\n",
        "test.info()"
      ],
      "execution_count": 20,
      "outputs": [
        {
          "output_type": "stream",
          "text": [
            "<class 'pandas.core.frame.DataFrame'>\n",
            "RangeIndex: 20000 entries, 0 to 19999\n",
            "Data columns (total 12 columns):\n",
            "qtde.ponto          20000 non-null float64\n",
            "mean.signalX        20000 non-null float64\n",
            "sd.signalX          20000 non-null float64\n",
            "kurtosis.signalX    20000 non-null float64\n",
            "mean.signalY        20000 non-null float64\n",
            "sd.signalY          20000 non-null float64\n",
            "kurtosis.signalY    20000 non-null float64\n",
            "L                   20000 non-null float64\n",
            "X                   20000 non-null float64\n",
            "XY                  20000 non-null float64\n",
            "Y                   20000 non-null float64\n",
            "mean.silhouette     20000 non-null float64\n",
            "dtypes: float64(12)\n",
            "memory usage: 1.8 MB\n"
          ],
          "name": "stdout"
        }
      ]
    },
    {
      "cell_type": "code",
      "metadata": {
        "id": "LCQIZng-PTPv",
        "colab_type": "code",
        "outputId": "65a334f4-44da-4c5e-f1bb-18b646782d13",
        "colab": {
          "base_uri": "https://localhost:8080/",
          "height": 68
        }
      },
      "source": [
        "## Naão deu certo!!!\n",
        "\n",
        "#Normalização:  https://scikit-learn.org/stable/modules/generated/sklearn.preprocessing.StandardScaler.html\n",
        "\n",
        "from sklearn.preprocessing import StandardScaler\n",
        "data = [[0, 0], [0, 0], [1, 1], [1, 1]]\n",
        "print (data)\n",
        "\n",
        "scaler = StandardScaler()\n",
        "print(scaler.fit(data))\n",
        "\n",
        "print(scaler)\n",
        "\n",
        "##print(scaler.mean_)\n",
        "\n",
        "##print(scaler.transform(data))\n",
        "\n",
        "### Devo e como farei para os meus dados??\n",
        "\n"
      ],
      "execution_count": 0,
      "outputs": [
        {
          "output_type": "stream",
          "text": [
            "[[0, 0], [0, 0], [1, 1], [1, 1]]\n",
            "StandardScaler(copy=True, with_mean=True, with_std=True)\n",
            "StandardScaler(copy=True, with_mean=True, with_std=True)\n"
          ],
          "name": "stdout"
        }
      ]
    },
    {
      "cell_type": "code",
      "metadata": {
        "id": "8eMLST48PzUo",
        "colab_type": "code",
        "outputId": "8add39ec-e9f6-43da-e1db-30d802e7ff99",
        "colab": {
          "base_uri": "https://localhost:8080/",
          "height": 493
        }
      },
      "source": [
        "##from sklearn.preprocessing import StandardScaler\n",
        "\n",
        "##train = scaler.fit(train)\n",
        "\n",
        "train.info()\n",
        "\n",
        "test.head()\n",
        "\n"
      ],
      "execution_count": 0,
      "outputs": [
        {
          "output_type": "stream",
          "text": [
            "<class 'pandas.core.frame.DataFrame'>\n",
            "RangeIndex: 80000 entries, 0 to 79999\n",
            "Data columns (total 12 columns):\n",
            "mean.signalX                80000 non-null float64\n",
            "sd.signalX                  80000 non-null float64\n",
            "kurtosis.signalX            80000 non-null float64\n",
            "mean.signalY                80000 non-null float64\n",
            "sd.signalY                  80000 non-null float64\n",
            "kurtosis.signalY            80000 non-null float64\n",
            "L                           80000 non-null float64\n",
            "X                           80000 non-null float64\n",
            "XY                          80000 non-null float64\n",
            "Y                           80000 non-null float64\n",
            "mean.silhouette             80000 non-null float64\n",
            "traininglabelorder.score    80000 non-null float64\n",
            "dtypes: float64(12)\n",
            "memory usage: 7.3 MB\n"
          ],
          "name": "stdout"
        },
        {
          "output_type": "execute_result",
          "data": {
            "text/html": [
              "<div>\n",
              "<style scoped>\n",
              "    .dataframe tbody tr th:only-of-type {\n",
              "        vertical-align: middle;\n",
              "    }\n",
              "\n",
              "    .dataframe tbody tr th {\n",
              "        vertical-align: top;\n",
              "    }\n",
              "\n",
              "    .dataframe thead th {\n",
              "        text-align: right;\n",
              "    }\n",
              "</style>\n",
              "<table border=\"1\" class=\"dataframe\">\n",
              "  <thead>\n",
              "    <tr style=\"text-align: right;\">\n",
              "      <th></th>\n",
              "      <th>mean.signalX</th>\n",
              "      <th>sd.signalX</th>\n",
              "      <th>kurtosis.signalX</th>\n",
              "      <th>mean.signalY</th>\n",
              "      <th>sd.signalY</th>\n",
              "      <th>kurtosis.signalY</th>\n",
              "      <th>L</th>\n",
              "      <th>X</th>\n",
              "      <th>XY</th>\n",
              "      <th>Y</th>\n",
              "      <th>mean.silhouette</th>\n",
              "    </tr>\n",
              "  </thead>\n",
              "  <tbody>\n",
              "    <tr>\n",
              "      <th>0</th>\n",
              "      <td>2929.713542</td>\n",
              "      <td>983.267187</td>\n",
              "      <td>2.204854</td>\n",
              "      <td>2338.335938</td>\n",
              "      <td>880.798587</td>\n",
              "      <td>1.852330</td>\n",
              "      <td>7.0</td>\n",
              "      <td>116.0</td>\n",
              "      <td>167.0</td>\n",
              "      <td>94.0</td>\n",
              "      <td>0.916505</td>\n",
              "    </tr>\n",
              "    <tr>\n",
              "      <th>1</th>\n",
              "      <td>1409.484375</td>\n",
              "      <td>525.140811</td>\n",
              "      <td>2.798995</td>\n",
              "      <td>3155.841146</td>\n",
              "      <td>978.277806</td>\n",
              "      <td>2.624796</td>\n",
              "      <td>4.0</td>\n",
              "      <td>92.0</td>\n",
              "      <td>189.0</td>\n",
              "      <td>99.0</td>\n",
              "      <td>0.891220</td>\n",
              "    </tr>\n",
              "    <tr>\n",
              "      <th>2</th>\n",
              "      <td>2031.329843</td>\n",
              "      <td>2023.975889</td>\n",
              "      <td>2.531504</td>\n",
              "      <td>2982.876963</td>\n",
              "      <td>996.573219</td>\n",
              "      <td>2.506589</td>\n",
              "      <td>5.0</td>\n",
              "      <td>50.0</td>\n",
              "      <td>73.0</td>\n",
              "      <td>254.0</td>\n",
              "      <td>0.947689</td>\n",
              "    </tr>\n",
              "    <tr>\n",
              "      <th>3</th>\n",
              "      <td>2900.078378</td>\n",
              "      <td>1278.838337</td>\n",
              "      <td>1.794436</td>\n",
              "      <td>2463.178378</td>\n",
              "      <td>1937.785232</td>\n",
              "      <td>1.229172</td>\n",
              "      <td>5.0</td>\n",
              "      <td>170.0</td>\n",
              "      <td>10.0</td>\n",
              "      <td>185.0</td>\n",
              "      <td>0.954000</td>\n",
              "    </tr>\n",
              "    <tr>\n",
              "      <th>4</th>\n",
              "      <td>2567.598958</td>\n",
              "      <td>1090.155787</td>\n",
              "      <td>2.272346</td>\n",
              "      <td>3239.945312</td>\n",
              "      <td>1195.922708</td>\n",
              "      <td>2.315470</td>\n",
              "      <td>4.0</td>\n",
              "      <td>106.0</td>\n",
              "      <td>182.0</td>\n",
              "      <td>92.0</td>\n",
              "      <td>0.829513</td>\n",
              "    </tr>\n",
              "  </tbody>\n",
              "</table>\n",
              "</div>"
            ],
            "text/plain": [
              "   mean.signalX   sd.signalX  kurtosis.signalX  ...     XY      Y  mean.silhouette\n",
              "0   2929.713542   983.267187          2.204854  ...  167.0   94.0         0.916505\n",
              "1   1409.484375   525.140811          2.798995  ...  189.0   99.0         0.891220\n",
              "2   2031.329843  2023.975889          2.531504  ...   73.0  254.0         0.947689\n",
              "3   2900.078378  1278.838337          1.794436  ...   10.0  185.0         0.954000\n",
              "4   2567.598958  1090.155787          2.272346  ...  182.0   92.0         0.829513\n",
              "\n",
              "[5 rows x 11 columns]"
            ]
          },
          "metadata": {
            "tags": []
          },
          "execution_count": 37
        }
      ]
    },
    {
      "cell_type": "code",
      "metadata": {
        "id": "32pSZkrpVoWC",
        "colab_type": "code",
        "outputId": "8aa390d0-61bb-4034-a48c-58b5e85594cf",
        "colab": {
          "base_uri": "https://localhost:8080/",
          "height": 34
        }
      },
      "source": [
        "# feature qtde.ponto poderá ser removida??\n",
        "\n",
        "\n",
        "X = np.array(train.drop(['traininglabelorder.score'], 1))\n",
        "\n",
        "y = np.array(train['traininglabelorder.score'])\n",
        "\n",
        "\n",
        "print(y)\n",
        "\n",
        "\n"
      ],
      "execution_count": 8,
      "outputs": [
        {
          "output_type": "stream",
          "text": [
            "[0.00964712 0.84208443 0.74460145 ... 0.8007374  0.00594233 0.7671597 ]\n"
          ],
          "name": "stdout"
        }
      ]
    },
    {
      "cell_type": "code",
      "metadata": {
        "id": "rh_Cun27X2kn",
        "colab_type": "code",
        "colab": {}
      },
      "source": [
        "# Dados de treinamento e teste - 80.000 objetos que foram divididos.\n",
        "# X - features, y - lables\n",
        "X_train, X_test, y_train, y_test = train_test_split(X, y, test_size=0.2)\n",
        "\n",
        "# Dados de valição é  o conjunto de treinamento 20.000 objetos\n",
        "\n",
        "#X_val, y_val \n",
        "X_val = np.array(test)\n",
        "\n",
        "##y_val = \"score\" --> no site do kaggle?? Como fazer \n"
      ],
      "execution_count": 0,
      "outputs": []
    },
    {
      "cell_type": "code",
      "metadata": {
        "id": "J5wrTqiNX7CV",
        "colab_type": "code",
        "outputId": "1005bddf-9d84-424d-9fcd-b4729ff27b51",
        "colab": {
          "base_uri": "https://localhost:8080/",
          "height": 102
        }
      },
      "source": [
        "# Regressor\n",
        "\n",
        "clf = tree.DecisionTreeRegressor(max_depth = None)\n",
        "\n",
        "clf.fit(X_train , y_train)\n",
        "\n"
      ],
      "execution_count": 10,
      "outputs": [
        {
          "output_type": "execute_result",
          "data": {
            "text/plain": [
              "DecisionTreeRegressor(criterion='mse', max_depth=None, max_features=None,\n",
              "                      max_leaf_nodes=None, min_impurity_decrease=0.0,\n",
              "                      min_impurity_split=None, min_samples_leaf=1,\n",
              "                      min_samples_split=2, min_weight_fraction_leaf=0.0,\n",
              "                      presort=False, random_state=None, splitter='best')"
            ]
          },
          "metadata": {
            "tags": []
          },
          "execution_count": 10
        }
      ]
    },
    {
      "cell_type": "code",
      "metadata": {
        "id": "2fRTgYpvCmDx",
        "colab_type": "code",
        "colab": {}
      },
      "source": [
        "y_pred = clf.predict(X_test)\n"
      ],
      "execution_count": 0,
      "outputs": []
    },
    {
      "cell_type": "code",
      "metadata": {
        "id": "WbJKRdjH8e9f",
        "colab_type": "code",
        "colab": {
          "base_uri": "https://localhost:8080/",
          "height": 34
        },
        "outputId": "249bf0de-1253-46a6-90a7-1ae85d522b3f"
      },
      "source": [
        "print(y_pred)"
      ],
      "execution_count": 12,
      "outputs": [
        {
          "output_type": "stream",
          "text": [
            "[0.795196   1.         0.79495816 ... 1.         1.         0.04426119]\n"
          ],
          "name": "stdout"
        }
      ]
    },
    {
      "cell_type": "code",
      "metadata": {
        "id": "25Sc27Ku8i8e",
        "colab_type": "code",
        "colab": {
          "base_uri": "https://localhost:8080/",
          "height": 34
        },
        "outputId": "29e9776a-3564-4bc5-a7be-33855136a169"
      },
      "source": [
        "rmse = sqrt(mean_squared_error(y_pred, y_test))\n",
        "print (rmse)"
      ],
      "execution_count": 14,
      "outputs": [
        {
          "output_type": "stream",
          "text": [
            "0.27730811403356553\n"
          ],
          "name": "stdout"
        }
      ]
    },
    {
      "cell_type": "code",
      "metadata": {
        "id": "OTOwJMz6aLIL",
        "colab_type": "code",
        "outputId": "b9aec54e-98c3-4815-d294-6871fb0be781",
        "colab": {
          "base_uri": "https://localhost:8080/",
          "height": 34
        }
      },
      "source": [
        "# !Se todos os outros modelos estão verificando com rmse é o em comum para todos\n",
        "accuracy = clf.score(X_test, y_test)\n",
        "\n",
        "print(accuracy)"
      ],
      "execution_count": 15,
      "outputs": [
        {
          "output_type": "stream",
          "text": [
            "0.3288602435718553\n"
          ],
          "name": "stdout"
        }
      ]
    },
    {
      "cell_type": "code",
      "metadata": {
        "id": "u0ICIUC2T7jb",
        "colab_type": "code",
        "outputId": "aeffe658-4442-416d-9563-09b9227b2970",
        "colab": {
          "base_uri": "https://localhost:8080/",
          "height": 51
        }
      },
      "source": [
        "# sugestão normalizar os dados no caso para KNN, arvore não precisa? ver o que vai modificar. Para os dados do dataset de testes o score é visto no site... com scatterplotID e o score gerado...\n",
        "print(cross_val_score(clf, X, y, cv=5))\n",
        "print(cross_val_score(clf, X, y, cv=5).mean())\n",
        "\n",
        "#tree.plot_tree(clf.fit(X_train , y_train))"
      ],
      "execution_count": 16,
      "outputs": [
        {
          "output_type": "stream",
          "text": [
            "[0.30489699 0.32676664 0.32377391 0.32852509 0.32637068]\n",
            "0.3252504423501749\n"
          ],
          "name": "stdout"
        }
      ]
    },
    {
      "cell_type": "code",
      "metadata": {
        "id": "7ptfcK9K83He",
        "colab_type": "code",
        "colab": {}
      },
      "source": [
        "# Investigar mais sobre cross_validation e normalização no sklearn... e testar com o conjunto de treinamento no kaggle."
      ],
      "execution_count": 0,
      "outputs": []
    },
    {
      "cell_type": "code",
      "metadata": {
        "id": "xDuiNTf9-arw",
        "colab_type": "code",
        "colab": {
          "base_uri": "https://localhost:8080/",
          "height": 238
        },
        "outputId": "d3c9961b-190d-4a96-d95b-2cc4aba2453f"
      },
      "source": [
        "# conversão dos dados de treinamento para array para modelo.\n",
        "\n",
        "Xval = np.array(test)\n",
        "print(Xval)\n",
        "\n"
      ],
      "execution_count": 22,
      "outputs": [
        {
          "output_type": "stream",
          "text": [
            "[[3.84000000e+02 2.92971354e+03 9.83267187e+02 ... 1.67000000e+02\n",
            "  9.40000000e+01 9.16504577e-01]\n",
            " [3.84000000e+02 1.40948438e+03 5.25140811e+02 ... 1.89000000e+02\n",
            "  9.90000000e+01 8.91219883e-01]\n",
            " [3.82000000e+02 2.03132984e+03 2.02397589e+03 ... 7.30000000e+01\n",
            "  2.54000000e+02 9.47688522e-01]\n",
            " ...\n",
            " [3.82000000e+02 4.13408377e+03 2.40434429e+03 ... 4.50000000e+01\n",
            "  1.26000000e+02 9.02243658e-01]\n",
            " [3.84000000e+02 1.09517448e+03 5.62200124e+02 ... 1.20000000e+01\n",
            "  1.87000000e+02 9.49857651e-01]\n",
            " [3.79000000e+02 3.48129288e+03 1.81792133e+03 ... 2.10000000e+02\n",
            "  9.00000000e+01 8.95854906e-01]]\n"
          ],
          "name": "stdout"
        }
      ]
    },
    {
      "cell_type": "code",
      "metadata": {
        "id": "YgRsF7yz_CcI",
        "colab_type": "code",
        "colab": {
          "base_uri": "https://localhost:8080/",
          "height": 34
        },
        "outputId": "e9d171c8-d16e-4658-8226-b9462fa158d6"
      },
      "source": [
        "# Estes dados associar ao Teste - ScatterPlotId  & este score e confirmar no site...\n",
        "y_pred = clf.predict(Xval)\n",
        "print(y_pred)\n",
        "\n"
      ],
      "execution_count": 24,
      "outputs": [
        {
          "output_type": "stream",
          "text": [
            "[0.6323367  0.9443186  0.8417066  ... 1.         0.89138154 0.1760756 ]\n"
          ],
          "name": "stdout"
        }
      ]
    },
    {
      "cell_type": "code",
      "metadata": {
        "id": "9fjCcEE4_d_f",
        "colab_type": "code",
        "colab": {
          "base_uri": "https://localhost:8080/",
          "height": 164
        },
        "outputId": "45b3a602-1755-43a0-8989-2582c15d21b0"
      },
      "source": [
        ""
      ],
      "execution_count": 25,
      "outputs": [
        {
          "output_type": "error",
          "ename": "AttributeError",
          "evalue": "ignored",
          "traceback": [
            "\u001b[0;31m---------------------------------------------------------------------------\u001b[0m",
            "\u001b[0;31mAttributeError\u001b[0m                            Traceback (most recent call last)",
            "\u001b[0;32m<ipython-input-25-a704e5f09c63>\u001b[0m in \u001b[0;36m<module>\u001b[0;34m()\u001b[0m\n\u001b[0;32m----> 1\u001b[0;31m \u001b[0my_pred\u001b[0m\u001b[0;34m.\u001b[0m\u001b[0minfo\u001b[0m\u001b[0;34m(\u001b[0m\u001b[0;34m)\u001b[0m\u001b[0;34m\u001b[0m\u001b[0;34m\u001b[0m\u001b[0m\n\u001b[0m",
            "\u001b[0;31mAttributeError\u001b[0m: 'numpy.ndarray' object has no attribute 'info'"
          ]
        }
      ]
    }
  ]
}